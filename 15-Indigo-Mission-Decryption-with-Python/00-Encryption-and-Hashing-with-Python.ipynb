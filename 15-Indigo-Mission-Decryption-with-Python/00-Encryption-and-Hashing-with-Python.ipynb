{
 "cells": [
  {
   "cell_type": "markdown",
   "metadata": {},
   "source": [
    "# Encryption and Hashing with Python\n",
    "\n",
    "We've experimented with creating simple ciphers for encryption, but for true encryption purposes, we will want to make sure to use well established protocols and alogrithms, as the simple ciphers we've created can still be easily broken through simple techniques such as frequency analysis. Let's explore to concepts in cryptography, hashing and encryption. We will explore real libraries for this instead of creating our own methods. \n",
    "\n",
    "## Hashing\n",
    "\n",
    "Hashing refers to the process of passing information through a hashfunciton. A hash function is any function that can be used to map data of arbitrary size to data of fixed size. The values returned by a hash function are called hash values, hash codes, digests, or simply hashes. \n",
    "\n",
    "In the context of security, hashing refers to taking a piece of data, such as a document or password, and passing it through a cryptographically secure hash function that is close to impossible to reverse. This allows for secure storage of passwords. For example, when you type a password into Gmail, the password is passed through a hash function that turns it into a hashed version of your password, which can be thought of as a mix of letters and numbers. Gmail then checks that the hash you provided matches the hash they have on file, if it does, they let you log in. This is secure, because even if someone \"hacks\" Gmail's servers and can see everything, they only will have access to the hashed versions of the passwords, which are close to impossible to reverse. \n",
    "\n",
    "There are [many hashing algorithms](https://en.wikipedia.org/wiki/Cryptographic_hash_function), some older ones such as MD5 have been deemed to insecure to still be used. Some of the most popular cryptographic hash functions were created by the NSA.\n",
    "\n",
    "The ideal cryptographic hash function has five main properties:\n",
    "\n",
    "* it is deterministic so the same message always results in the same hash\n",
    "* it is quick to compute the hash value for any given message\n",
    "* it is infeasible to generate a message from its hash value except by trying all possible messages\n",
    "* a small change to a message should change the hash value so extensively that the new hash value appears uncorrelated with the old hash value\n",
    "* it is infeasible to find two different messages with the same hash value\n",
    "\n",
    "Let's explore hashing with Python's built in hashlib module"
   ]
  },
  {
   "cell_type": "code",
   "execution_count": 1,
   "metadata": {
    "collapsed": true
   },
   "outputs": [],
   "source": [
    "import hashlib"
   ]
  },
  {
   "cell_type": "markdown",
   "metadata": {},
   "source": [
    "As you can see there are many algorithms available, most of these algorithms have their own dedicated documentation you can find with a quick google search."
   ]
  },
  {
   "cell_type": "code",
   "execution_count": 3,
   "metadata": {},
   "outputs": [
    {
     "data": {
      "text/plain": [
       "{'DSA',\n",
       " 'DSA-SHA',\n",
       " 'MD4',\n",
       " 'MD5',\n",
       " 'RIPEMD160',\n",
       " 'SHA',\n",
       " 'SHA1',\n",
       " 'SHA224',\n",
       " 'SHA256',\n",
       " 'SHA384',\n",
       " 'SHA512',\n",
       " 'blake2b',\n",
       " 'blake2s',\n",
       " 'dsaEncryption',\n",
       " 'dsaWithSHA',\n",
       " 'ecdsa-with-SHA1',\n",
       " 'md4',\n",
       " 'md5',\n",
       " 'ripemd160',\n",
       " 'sha',\n",
       " 'sha1',\n",
       " 'sha224',\n",
       " 'sha256',\n",
       " 'sha384',\n",
       " 'sha3_224',\n",
       " 'sha3_256',\n",
       " 'sha3_384',\n",
       " 'sha3_512',\n",
       " 'sha512',\n",
       " 'shake_128',\n",
       " 'shake_256',\n",
       " 'whirlpool'}"
      ]
     },
     "execution_count": 3,
     "metadata": {},
     "output_type": "execute_result"
    }
   ],
   "source": [
    "hashlib.algorithms_available"
   ]
  },
  {
   "cell_type": "markdown",
   "metadata": {},
   "source": [
    "We can create a hash object that will allow us to use an algorithm to create a hexdigest version of the string provided. Remember that hashes are one-way only, for two way wait until we discuss encryption and decryption."
   ]
  },
  {
   "cell_type": "code",
   "execution_count": 4,
   "metadata": {
    "collapsed": true
   },
   "outputs": [],
   "source": [
    "hash_obj = hashlib.sha3_256()"
   ]
  },
  {
   "cell_type": "code",
   "execution_count": 5,
   "metadata": {
    "collapsed": true
   },
   "outputs": [],
   "source": [
    "hash_obj.update(b\"Hello\")"
   ]
  },
  {
   "cell_type": "code",
   "execution_count": 6,
   "metadata": {},
   "outputs": [
    {
     "data": {
      "text/plain": [
       "'8ca66ee6b2fe4bb928a8e3cd2f508de4119c0895f22e011117e22cf9b13de7ef'"
      ]
     },
     "execution_count": 6,
     "metadata": {},
     "output_type": "execute_result"
    }
   ],
   "source": [
    "hash_obj.hexdigest()"
   ]
  },
  {
   "cell_type": "markdown",
   "metadata": {},
   "source": [
    "Now let's try to make a minimal change to the string and see how much the hash changes:"
   ]
  },
  {
   "cell_type": "code",
   "execution_count": 7,
   "metadata": {
    "collapsed": true
   },
   "outputs": [],
   "source": [
    "hash_obj.update(b'hello')"
   ]
  },
  {
   "cell_type": "code",
   "execution_count": 9,
   "metadata": {},
   "outputs": [
    {
     "data": {
      "text/plain": [
       "'e52212c71ea57784000b60cae4d0d6a8ab08e17ad72902525a2cbe7e87f77ab6'"
      ]
     },
     "execution_count": 9,
     "metadata": {},
     "output_type": "execute_result"
    }
   ],
   "source": [
    "hash_obj.hexdigest()"
   ]
  },
  {
   "cell_type": "markdown",
   "metadata": {},
   "source": [
    "## Encryption\n",
    "\n",
    "Now that understand how hashing works with the built-in hashlib library in Python, let's explore encryption. For this we will need to install another open source library, simply known as cryptography. Install it by running the following at your command line:\n",
    "\n",
    "    pip install cryptography\n",
    "    \n",
    "Encryption is a hard problem, because now you need to be able to go both ways, encrypt a message so that others can't read it, but then also be able to have someone with the proper access be able to read the message as well. You also need to be able to try to prevent people from using techniques such as [frequency analysis](https://en.wikipedia.org/wiki/Frequency_analysis) or other decryption methods. [Cryptography itself is heavily rooted in mathematics and interested parties should definitely read about the amazing history of the topic.](https://en.wikipedia.org/wiki/Cryptography#Modern_cryptography)\n",
    "\n",
    "For our use cases we will use a simple private-key cryptograph. In this situation we will generate a \"secret\" key, that allows someone to decrypt our message. We will then use this key to create a cipher that can encrypt or decrypt messages that use that secret key.\n",
    "\n",
    "Let's see an example:"
   ]
  },
  {
   "cell_type": "code",
   "execution_count": 27,
   "metadata": {
    "collapsed": true
   },
   "outputs": [],
   "source": [
    "from cryptography.fernet import Fernet"
   ]
  },
  {
   "cell_type": "code",
   "execution_count": 28,
   "metadata": {
    "collapsed": true
   },
   "outputs": [],
   "source": [
    "key = Fernet.generate_key()"
   ]
  },
  {
   "cell_type": "code",
   "execution_count": 29,
   "metadata": {},
   "outputs": [
    {
     "data": {
      "text/plain": [
       "b'X9yqpLviaoNgsA6lQzmb5exX_AnWkoHvt7nCqZ-gb6I='"
      ]
     },
     "execution_count": 29,
     "metadata": {},
     "output_type": "execute_result"
    }
   ],
   "source": [
    "# Note the b'' in front of the string\n",
    "key"
   ]
  },
  {
   "cell_type": "code",
   "execution_count": 30,
   "metadata": {
    "collapsed": true
   },
   "outputs": [],
   "source": [
    "cipher = Fernet(key)"
   ]
  },
  {
   "cell_type": "markdown",
   "metadata": {},
   "source": [
    "Now let's encrypt a simple message."
   ]
  },
  {
   "cell_type": "code",
   "execution_count": 31,
   "metadata": {
    "collapsed": true
   },
   "outputs": [],
   "source": [
    "text = b\"Hello. Are you there?\""
   ]
  },
  {
   "cell_type": "code",
   "execution_count": 32,
   "metadata": {
    "collapsed": true
   },
   "outputs": [],
   "source": [
    "encrypted_text = cipher.encrypt(text)"
   ]
  },
  {
   "cell_type": "code",
   "execution_count": 34,
   "metadata": {},
   "outputs": [
    {
     "data": {
      "text/plain": [
       "b'gAAAAABaQXsCt_lr6ISA_Zn4VVKMGyksSaaNkKJf2ZEX-Rhw5IPwCHfd_6EM4vDh9vmZ2QeU-CFVzHoZS6SAKdJzbU3HI_ggCV3hgzU5VpQ92tK5vaacriE='"
      ]
     },
     "execution_count": 34,
     "metadata": {},
     "output_type": "execute_result"
    }
   ],
   "source": [
    "encrypted_text "
   ]
  },
  {
   "cell_type": "markdown",
   "metadata": {},
   "source": [
    "Now it becomes a very difficult task for someone to try to decode what is in this message without the secret key. With the key however, we can easily decrypt it:"
   ]
  },
  {
   "cell_type": "code",
   "execution_count": 35,
   "metadata": {
    "collapsed": true
   },
   "outputs": [],
   "source": [
    "# The other user could create their own cipher\n",
    "other_cipher = Fernet(b'X9yqpLviaoNgsA6lQzmb5exX_AnWkoHvt7nCqZ-gb6I=')"
   ]
  },
  {
   "cell_type": "code",
   "execution_count": 36,
   "metadata": {
    "collapsed": true
   },
   "outputs": [],
   "source": [
    "decrypted_text = other_cipher.decrypt(encrypted_text)"
   ]
  },
  {
   "cell_type": "code",
   "execution_count": 37,
   "metadata": {},
   "outputs": [
    {
     "data": {
      "text/plain": [
       "b'Hello. Are you there?'"
      ]
     },
     "execution_count": 37,
     "metadata": {},
     "output_type": "execute_result"
    }
   ],
   "source": [
    "decrypted_text"
   ]
  },
  {
   "cell_type": "markdown",
   "metadata": {},
   "source": [
    "Excellent work agent! Its time to apply this to the field!"
   ]
  }
 ],
 "metadata": {
  "kernelspec": {
   "display_name": "Python 3",
   "language": "python",
   "name": "python3"
  },
  "language_info": {
   "codemirror_mode": {
    "name": "ipython",
    "version": 3
   },
   "file_extension": ".py",
   "mimetype": "text/x-python",
   "name": "python",
   "nbconvert_exporter": "python",
   "pygments_lexer": "ipython3",
   "version": "3.6.1"
  }
 },
 "nbformat": 4,
 "nbformat_minor": 2
}
