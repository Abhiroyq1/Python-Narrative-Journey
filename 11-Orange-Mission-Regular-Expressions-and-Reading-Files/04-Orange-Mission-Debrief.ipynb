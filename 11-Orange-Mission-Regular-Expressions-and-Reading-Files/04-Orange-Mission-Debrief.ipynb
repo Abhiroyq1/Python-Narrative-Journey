{
 "cells": [
  {
   "cell_type": "markdown",
   "metadata": {},
   "source": [
    "# Orange Mission Debrief"
   ]
  },
  {
   "cell_type": "code",
   "execution_count": 2,
   "metadata": {
    "collapsed": true
   },
   "outputs": [],
   "source": [
    "import os"
   ]
  },
  {
   "cell_type": "code",
   "execution_count": 5,
   "metadata": {},
   "outputs": [
    {
     "data": {
      "text/plain": [
       "'Vulputate duis massaphasellus blandit, accumsannulla iriure lobortis tincidunt lectus.'"
      ]
     },
     "execution_count": 5,
     "metadata": {},
     "output_type": "execute_result"
    }
   ],
   "source": [
    "from random_words import LoremIpsum\n",
    "li = LoremIpsum()\n",
    "li.get_sentence()"
   ]
  },
  {
   "cell_type": "code",
   "execution_count": 6,
   "metadata": {},
   "outputs": [
    {
     "data": {
      "text/plain": [
       "['Lectus autem sapien.',\n",
       " 'Lacusnulla, placerat molestie lorem tristique natoque minim.',\n",
       " 'Fermentumfusce mollis eu suspendisse penatibus proin, ante purus conguenulla praesent euismod vel donec tortorvestibulum justocras.',\n",
       " 'Pulvinarvestibulum arcu consecteturpraesent ex.',\n",
       " 'Odio sapien enimsed magna, rebum imperdietaliquam habitant tristique vel ipsuminteger potenti nullasuspendisse.',\n",
       " 'Nisl, arcu aliquyam justo felissed nondonec sempermorbi.',\n",
       " 'Consequat magna bibendumin aliquam donec, neque facilisis facilisicurabitur quis quisaenean auctormauris torquent dapibus rhoncus feugait.',\n",
       " 'Nam, natoque primis a at vestibulum dolor.',\n",
       " 'Sodales lacusnulla semvestibulum, consequat praesent nisised assum orci minulla veniam.',\n",
       " 'Elit gravida, ipsumcurabitur enim et proin natoque.',\n",
       " 'Rebum eratproin.',\n",
       " 'Quod quis molestie scelerisque non nequeetiam, nunccurabitur euismod pulvinarvestibulum faucibusvestibulum consequat mipellentesque quisque fermentum enim.',\n",
       " 'Dictumstvivamus vel suscipit, auctor in iriure lacusnulla magnis.',\n",
       " 'Sempermorbi erat suscipit.',\n",
       " 'Interdum quis habitasse dictumstvivamus, elitvivamus posuere commodo duo option dolore variuscras.',\n",
       " 'Pulvinar, dictumst condimentum ultricies varius nullasuspendisse mi.',\n",
       " 'Nibh metusdonec morbi tortor odio, sed massa mazim.',\n",
       " 'Nullamauris placerat lorem risusdonec, dui elementum litora neque.',\n",
       " 'Vulputate rebum cras suspendisse, pellentesque hac arcumorbi tempor eros.',\n",
       " 'Nullam nec platea nullamauris elitvivamus mauris, semper rutrum aliquyam vivamus eleifend ipsuminteger ultricies lacusut.',\n",
       " 'Vitae rhoncus massa clita.',\n",
       " 'Habitant enimaliquam consectetur, eu ullamcorper netus invidunt leopraesent nullamauris quisque urna.',\n",
       " 'Vehicula eros elitvivamus consectetur molestie ipsumcurabitur, justocras dis nihil suspendisse fames nunccurabitur tristique sed potenti.',\n",
       " 'Egestasmauris mattis vivamus inceptos muspellentesque.',\n",
       " 'Potenti enimnulla fringilla.',\n",
       " 'Soluta laoreetphasellus volutpatut sodalessed, cum no dictumst.',\n",
       " 'Facilisisat in suspendisse magnis, nisised nonummy consequatduis erat dictumst arcumorbi nunc est stet.',\n",
       " 'Dictumst invidunt senectus eros justo facilisinam.',\n",
       " 'Tempus ipsuminteger posuere quisque congue option, eirmod ornare nisised justocras auctormauris consectetuer sodales vitae clita.',\n",
       " 'Commodo nostra fermentum facilisisproin nisi primis labore porttitor, imperdiet ametduis eu urnamorbi netus telluspraesent.',\n",
       " 'Faucibusvestibulum telluspraesent purusvestibulum.',\n",
       " 'Aliquyam minim.',\n",
       " 'Class nostrud arcumorbi aliquet feliscras fermentum.',\n",
       " 'Mipellentesque class pretium ea mollis sadipscing, quisque labore tation urnapraesent gubergren pulvinar condimentum nullam bibendumin.',\n",
       " 'Dictumst ipsuminteger quisaenean eratproin facilisinam, mazim liber stet integer mipellentesque.',\n",
       " 'Scelerisque eratproin possim labore lobortisetiam assum, laoreetphasellus nisi veniam facer mollis minulla dis.',\n",
       " 'Enim clita temporsuspendisse metus, morbi pretium stet ipsuminteger dolor orci.',\n",
       " 'Cum nihil netus lobortis tortor, amet nostra morbi doming conubia donec integer.',\n",
       " 'Inceptos purusvestibulum, semper ultriciespellentesque velit neque venenatis feugait.',\n",
       " 'Libero curabitur morbi enim praesent.',\n",
       " 'Dui, dolore tortorvestibulum pulvinarvestibulum himenaeos aliquammauris nostra.',\n",
       " 'Duimauris sed, vehicula nisised facilisicurabitur accusam lacus.',\n",
       " 'Nisi turpis.',\n",
       " 'Lobortis diam nunc posuere egestasmauris.',\n",
       " 'Aliquammauris ultrices.',\n",
       " 'Tellus malesuada condimentum iriure nostra, iusto a volutpatut.',\n",
       " 'Eu a zzril class, phasellus nascetur vehicula aliquam quisque dolores ex interdumdonec bibendum.',\n",
       " 'Imperdietaliquam fermentumfusce blandit minulla.',\n",
       " 'Enimnulla lacusnulla maurisaenean erat.',\n",
       " 'Nec pharetra nullam porta fermentum, ante scelerisque possim a.']"
      ]
     },
     "execution_count": 6,
     "metadata": {},
     "output_type": "execute_result"
    }
   ],
   "source": [
    "li.get_sentences_list(50)"
   ]
  },
  {
   "cell_type": "code",
   "execution_count": 7,
   "metadata": {
    "collapsed": true
   },
   "outputs": [],
   "source": [
    "import random,string"
   ]
  },
  {
   "cell_type": "code",
   "execution_count": 8,
   "metadata": {
    "collapsed": true
   },
   "outputs": [],
   "source": [
    "alphabet = string.ascii_uppercase"
   ]
  },
  {
   "cell_type": "code",
   "execution_count": 13,
   "metadata": {},
   "outputs": [],
   "source": [
    "def ran_file_name():\n",
    "    return ''.join(random.choices(alphabet,k=10))+'.txt'"
   ]
  },
  {
   "cell_type": "code",
   "execution_count": 14,
   "metadata": {},
   "outputs": [
    {
     "data": {
      "text/plain": [
       "'RDWKDPMNYU.txt'"
      ]
     },
     "execution_count": 14,
     "metadata": {},
     "output_type": "execute_result"
    }
   ],
   "source": [
    "ran_file_name()"
   ]
  },
  {
   "cell_type": "code",
   "execution_count": 24,
   "metadata": {},
   "outputs": [],
   "source": [
    "for folder , sub_folders , files in os.walk(os.getcwd()+\"\\\\Mission_Orange_Files\"):\n",
    "    \n",
    "     \n",
    "    \n",
    "        \n",
    "    for x in range(5):\n",
    "        name = folder+ran_file_name()\n",
    "        f = open(name,'w+')\n",
    "        words = li.get_sentences_list(50)\n",
    "        for line in words:\n",
    "            f.write(line)\n",
    "        f.close()\n",
    "            \n",
    " "
   ]
  },
  {
   "cell_type": "code",
   "execution_count": 20,
   "metadata": {},
   "outputs": [],
   "source": [
    "import random_words"
   ]
  },
  {
   "cell_type": "code",
   "execution_count": 21,
   "metadata": {},
   "outputs": [
    {
     "ename": "TypeError",
     "evalue": "'module' object is not callable",
     "output_type": "error",
     "traceback": [
      "\u001b[1;31m---------------------------------------------------------------------------\u001b[0m",
      "\u001b[1;31mTypeError\u001b[0m                                 Traceback (most recent call last)",
      "\u001b[1;32m<ipython-input-21-2d870185d4b8>\u001b[0m in \u001b[0;36m<module>\u001b[1;34m()\u001b[0m\n\u001b[1;32m----> 1\u001b[1;33m \u001b[0mli\u001b[0m \u001b[1;33m=\u001b[0m \u001b[0mrandom_words\u001b[0m\u001b[1;33m.\u001b[0m\u001b[0mlorem_ipsum\u001b[0m\u001b[1;33m(\u001b[0m\u001b[1;33m)\u001b[0m\u001b[1;33m\u001b[0m\u001b[0m\n\u001b[0m",
      "\u001b[1;31mTypeError\u001b[0m: 'module' object is not callable"
     ]
    }
   ],
   "source": [
    "li = random_words.lorem_ipsum()"
   ]
  },
  {
   "cell_type": "code",
   "execution_count": null,
   "metadata": {
    "collapsed": true
   },
   "outputs": [],
   "source": [
    "o"
   ]
  }
 ],
 "metadata": {
  "kernelspec": {
   "display_name": "Python 3",
   "language": "python",
   "name": "python3"
  },
  "language_info": {
   "codemirror_mode": {
    "name": "ipython",
    "version": 3
   },
   "file_extension": ".py",
   "mimetype": "text/x-python",
   "name": "python",
   "nbconvert_exporter": "python",
   "pygments_lexer": "ipython3",
   "version": "3.6.1"
  }
 },
 "nbformat": 4,
 "nbformat_minor": 2
}
