{
 "cells": [
  {
   "cell_type": "markdown",
   "metadata": {
    "collapsed": true
   },
   "source": [
    "# Final Field Readiness Test - Solutions\n",
    "\n",
    "** For this test you will be using Object Oriented Programmin to create an object that uses a modified Ceaser Cipher. Check out the video for an explanation of how the object will work. The basic idea is the following, given a message such as \"hello world\", the encryption should perform the following steps:**\n",
    "\n",
    "** The encryption method you will create: **\n",
    "\n",
    "1. Accept the string \"hello world\"\n",
    "2. Add in a random letter in every other index position in the string, for example: 'hueqlzlpom cwgosrhlbdg'\n",
    "3. Then reverse this string, for example: 'gdblhrsogwc moplzlqeuh'\n",
    "4. Then create a shuffled version of the alphabet (remember to set a seed to the random.seed() so you can get this shuffled version again by providing the same seed number).\n",
    "5. Just like a classic ceaser cipher, match up the index of each letter and then encrypt the letters using this shuffled alphabet.\n",
    "\n",
    "The end result will be a string something like \"divgkjocdze bcrgqghywk\" for our previous example.\n",
    "\n",
    "To decrypt this, reverse the steps. The hardest step to reverse is the randomized shuffling of the alphabet, to regain the same shuffling, you will need the seed key. The method for the decryption will accept this as an argument.\n",
    "\n",
    "The \"skeleton\" of the code has been outlined for you to fill out below. Best of luck!"
   ]
  },
  {
   "cell_type": "code",
   "execution_count": 339,
   "metadata": {
    "collapsed": true
   },
   "outputs": [],
   "source": [
    "import string\n",
    "import random"
   ]
  },
  {
   "cell_type": "code",
   "execution_count": 325,
   "metadata": {},
   "outputs": [],
   "source": [
    "class Encryption():\n",
    "    \n",
    "    def __init__(self,seed):\n",
    "        \n",
    "        # Set a random seed and a self.seed attribute\n",
    "        random.seed(seed)\n",
    "        self.seed = seed\n",
    "        \n",
    "        # Create an empty string attribute to hold the encrypted phrase\n",
    "        self.encrypted_phrase = ''\n",
    "        \n",
    "        # Use the string and random libraries to create two attributes\n",
    "        # One is the correct alphabet, another is a shuffled alphabet (hint: random.sample())\n",
    "        self.true_alphabet = list(string.ascii_lowercase)\n",
    "        self.rand_alphabet = random.sample(self.true_alphabet,len(self.true_alphabet))\n",
    "\n",
    "    def encryption(self,message):\n",
    "        '''\n",
    "        This method will take in a string message and encrypt it. There\n",
    "        \n",
    "        '''\n",
    "        output = ''\n",
    "        \n",
    "\n",
    "        for i in range(len(message)):\n",
    "            \n",
    "            output += message[i]\n",
    "            output += random.sample(self.true_alphabet,1)[0]\n",
    "        print(output)\n",
    "        # Reverse the string for even more obfuscation\n",
    "        self.encrypted_phrase = output[::-1]\n",
    "         \n",
    "        \n",
    "        #######################################\n",
    "        ##### SECOND PHASE OF ENCRYPTION ######\n",
    "        #######################################\n",
    "        \n",
    "        \n",
    "        encrypted_phase_two = list(range(len(self.encrypted_phrase)))\n",
    "        \n",
    "        for i,letter in enumerate(self.encrypted_phrase.lower()):\n",
    "            \n",
    "            if letter in self.true_alphabet:\n",
    "                index = self.true_alphabet.index(letter)\n",
    "                encrypted_phase_two[i] = self.rand_alphabet[index]\n",
    "            \n",
    "            else:\n",
    "                encrypted_phase_two[i] = letter\n",
    "        \n",
    "        self.encrypted_phrase = ''.join(encrypted_phase_two)\n",
    "        \n",
    "        return self.encrypted_phrase\n",
    "     \n",
    "   \n",
    "    def decryption(self,message,seed):\n",
    "        \n",
    "        random.seed(seed)\n",
    "        session_rand_alphabet = random.sample(self.true_alphabet,len(self.true_alphabet))\n",
    "        \n",
    "        \n",
    "        \n",
    "        decrypted_message = list(range(len(message)))\n",
    "        \n",
    "        # First undo the randomized ceaser cipher\n",
    "        for i,letter in enumerate(message.lower()):\n",
    "            \n",
    "            if letter in self.true_alphabet:\n",
    "                index = session_rand_alphabet.index(letter)\n",
    "                decrypted_message[i] = self.true_alphabet[index]\n",
    "            \n",
    "            else:\n",
    "                decrypted_message[i] = letter\n",
    "        \n",
    "        \n",
    "        # Join back list into a string\n",
    "        decrypted_message = ''.join(decrypted_message)[::-1][::2] \n",
    "  \n",
    "        \n",
    "        \n",
    "       \n",
    "      \n",
    "        \n",
    "        return decrypted_message"
   ]
  },
  {
   "cell_type": "code",
   "execution_count": null,
   "metadata": {},
   "outputs": [],
   "source": []
  },
  {
   "cell_type": "code",
   "execution_count": 336,
   "metadata": {},
   "outputs": [],
   "source": [
    "e = Encryption(20)"
   ]
  },
  {
   "cell_type": "code",
   "execution_count": 337,
   "metadata": {},
   "outputs": [
    {
     "name": "stdout",
     "output_type": "stream",
     "text": [
      "hueqlzlpom cwgosrhlbdg\n"
     ]
    },
    {
     "data": {
      "text/plain": [
       "'divgkjocdze bcrgqghywk'"
      ]
     },
     "execution_count": 337,
     "metadata": {},
     "output_type": "execute_result"
    }
   ],
   "source": [
    "e.encryption('hello world')"
   ]
  },
  {
   "cell_type": "code",
   "execution_count": 338,
   "metadata": {},
   "outputs": [
    {
     "data": {
      "text/plain": [
       "'gdblhrsogwc moplzlqeuh'"
      ]
     },
     "execution_count": 338,
     "metadata": {},
     "output_type": "execute_result"
    }
   ],
   "source": [
    "'hueqlzlpom cwgosrhlbdg'[::-1]"
   ]
  },
  {
   "cell_type": "code",
   "execution_count": 323,
   "metadata": {},
   "outputs": [],
   "source": [
    "result = e.decryption('i?zwbcutu pyjjfxw yyciswmin w.znyefcajm wcqmx vtkioxkykjz fbxxi mfu f!zyaba tozff dmefi divgkjocdze bcrgqghywk',20)"
   ]
  },
  {
   "cell_type": "code",
   "execution_count": 324,
   "metadata": {},
   "outputs": [
    {
     "data": {
      "text/plain": [
       "'hello world it is me! i am ready to rock. dude are you?'"
      ]
     },
     "execution_count": 324,
     "metadata": {},
     "output_type": "execute_result"
    }
   ],
   "source": [
    "result"
   ]
  }
 ],
 "metadata": {
  "kernelspec": {
   "display_name": "Python 3",
   "language": "python",
   "name": "python3"
  },
  "language_info": {
   "codemirror_mode": {
    "name": "ipython",
    "version": 3
   },
   "file_extension": ".py",
   "mimetype": "text/x-python",
   "name": "python",
   "nbconvert_exporter": "python",
   "pygments_lexer": "ipython3",
   "version": "3.6.1"
  }
 },
 "nbformat": 4,
 "nbformat_minor": 2
}
