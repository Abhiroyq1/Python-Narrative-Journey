{
 "cells": [
  {
   "cell_type": "markdown",
   "metadata": {
    "collapsed": true
   },
   "source": [
    "# Final Field Readiness Test - Solutions\n",
    "\n",
    "** For this test you will be using Object Oriented Programmin to create an object that uses the [Affine Cipher](https://en.wikipedia.org/wiki/Affine_cipher)"
   ]
  },
  {
   "cell_type": "code",
   "execution_count": 90,
   "metadata": {
    "collapsed": true
   },
   "outputs": [],
   "source": [
    "import string\n",
    "import random"
   ]
  },
  {
   "cell_type": "code",
   "execution_count": 316,
   "metadata": {},
   "outputs": [],
   "source": [
    "class Encryption():\n",
    "    \n",
    "    def __init__(self,seed):\n",
    "        random.seed(seed)\n",
    "        self.seed = seed\n",
    " \n",
    "        self.encrypted_phrase = ''\n",
    "        self.true_alphabet = list(string.ascii_lowercase)\n",
    "        self.rand_alphabet = random.sample(self.true_alphabet,len(self.true_alphabet))\n",
    "\n",
    "    def encryption(self,message):\n",
    "        output = ''\n",
    "        \n",
    "\n",
    "        for i in range(len(message)):\n",
    "            \n",
    "            output += message[i]\n",
    "            output += random.sample(self.true_alphabet,1)[0]\n",
    "        \n",
    "        # Reverse the string for even more obfuscation\n",
    "        self.encrypted_phrase = output[::-1]\n",
    "         \n",
    "        \n",
    "        #######################################\n",
    "        ##### SECOND PHASE OF ENCRYPTION ######\n",
    "        #######################################\n",
    "        \n",
    "        \n",
    "        encrypted_phase_two = list(range(len(self.encrypted_phrase)))\n",
    "        \n",
    "        for i,letter in enumerate(self.encrypted_phrase.lower()):\n",
    "            \n",
    "            if letter in self.true_alphabet:\n",
    "                index = self.true_alphabet.index(letter)\n",
    "                encrypted_phase_two[i] = self.rand_alphabet[index]\n",
    "            \n",
    "            else:\n",
    "                encrypted_phase_two[i] = letter\n",
    "        \n",
    "        self.encrypted_phrase = ''.join(encrypted_phase_two)\n",
    "        \n",
    "        return self.encrypted_phrase\n",
    "     \n",
    "   \n",
    "    def decryption(self,message,seed):\n",
    "        \n",
    "        random.seed(seed)\n",
    "        session_rand_alphabet = random.sample(self.true_alphabet,len(self.true_alphabet))\n",
    "        \n",
    "        \n",
    "        \n",
    "        decrypted_message = list(range(len(message)))\n",
    "        \n",
    "        # First undo the randomized ceaser cipher\n",
    "        for i,letter in enumerate(message.lower()):\n",
    "            \n",
    "            if letter in self.true_alphabet:\n",
    "                index = session_rand_alphabet.index(letter)\n",
    "                decrypted_message[i] = self.true_alphabet[index]\n",
    "            \n",
    "            else:\n",
    "                decrypted_message[i] = letter\n",
    "        \n",
    "        \n",
    "        # Join back list into a string\n",
    "        decrypted_message = ''.join(decrypted_message)[::-1][::2] \n",
    "  \n",
    "        \n",
    "        \n",
    "       \n",
    "      \n",
    "        \n",
    "        return decrypted_message"
   ]
  },
  {
   "cell_type": "code",
   "execution_count": null,
   "metadata": {},
   "outputs": [],
   "source": []
  },
  {
   "cell_type": "code",
   "execution_count": 317,
   "metadata": {},
   "outputs": [],
   "source": [
    "e = Encryption(20)"
   ]
  },
  {
   "cell_type": "code",
   "execution_count": 322,
   "metadata": {},
   "outputs": [
    {
     "data": {
      "text/plain": [
       "'i?zwbcutu pyjjfxw yyciswmin w.znyefcajm wcqmx vtkioxkykjz fbxxi mfu f!zyaba tozff dmefi divgkjocdze bcrgqghywk'"
      ]
     },
     "execution_count": 322,
     "metadata": {},
     "output_type": "execute_result"
    }
   ],
   "source": [
    "e.encryption('Hello World it is me! I am ready to rock. Dude are you?')"
   ]
  },
  {
   "cell_type": "code",
   "execution_count": 323,
   "metadata": {},
   "outputs": [],
   "source": [
    "result = e.decryption('i?zwbcutu pyjjfxw yyciswmin w.znyefcajm wcqmx vtkioxkykjz fbxxi mfu f!zyaba tozff dmefi divgkjocdze bcrgqghywk',20)"
   ]
  },
  {
   "cell_type": "code",
   "execution_count": 324,
   "metadata": {},
   "outputs": [
    {
     "data": {
      "text/plain": [
       "'hello world it is me! i am ready to rock. dude are you?'"
      ]
     },
     "execution_count": 324,
     "metadata": {},
     "output_type": "execute_result"
    }
   ],
   "source": [
    "result"
   ]
  },
  {
   "cell_type": "code",
   "execution_count": null,
   "metadata": {
    "collapsed": true
   },
   "outputs": [],
   "source": []
  },
  {
   "cell_type": "code",
   "execution_count": 309,
   "metadata": {
    "collapsed": true
   },
   "outputs": [],
   "source": [
    "\n",
    "message = \"0123456789\""
   ]
  },
  {
   "cell_type": "code",
   "execution_count": 314,
   "metadata": {},
   "outputs": [],
   "source": [
    "output = ''\n",
    "for i in range(len(message)):\n",
    "    output = output + message[i]\n",
    "    output  = output + 'x'"
   ]
  },
  {
   "cell_type": "code",
   "execution_count": 315,
   "metadata": {},
   "outputs": [
    {
     "data": {
      "text/plain": [
       "'0x1x2x3x4x5x6x7x8x9x'"
      ]
     },
     "execution_count": 315,
     "metadata": {},
     "output_type": "execute_result"
    }
   ],
   "source": [
    "output"
   ]
  },
  {
   "cell_type": "code",
   "execution_count": 301,
   "metadata": {},
   "outputs": [
    {
     "data": {
      "text/plain": [
       "0"
      ]
     },
     "execution_count": 301,
     "metadata": {},
     "output_type": "execute_result"
    }
   ],
   "source": [
    "4%2"
   ]
  },
  {
   "cell_type": "code",
   "execution_count": null,
   "metadata": {
    "collapsed": true
   },
   "outputs": [],
   "source": []
  }
 ],
 "metadata": {
  "kernelspec": {
   "display_name": "Python 3",
   "language": "python",
   "name": "python3"
  },
  "language_info": {
   "codemirror_mode": {
    "name": "ipython",
    "version": 3
   },
   "file_extension": ".py",
   "mimetype": "text/x-python",
   "name": "python",
   "nbconvert_exporter": "python",
   "pygments_lexer": "ipython3",
   "version": "3.6.1"
  }
 },
 "nbformat": 4,
 "nbformat_minor": 2
}
