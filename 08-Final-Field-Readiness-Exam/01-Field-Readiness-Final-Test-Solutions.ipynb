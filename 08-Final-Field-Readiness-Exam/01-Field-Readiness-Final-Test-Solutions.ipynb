{
 "cells": [
  {
   "cell_type": "markdown",
   "metadata": {
    "collapsed": true
   },
   "source": [
    "# Final Field Readiness Test - Solutions\n",
    "\n",
    "** For this test you will be using Object Oriented Programmin to create an object that uses the [Affine Cipher](https://en.wikipedia.org/wiki/Affine_cipher)"
   ]
  },
  {
   "cell_type": "code",
   "execution_count": 90,
   "metadata": {
    "collapsed": true
   },
   "outputs": [],
   "source": [
    "import string\n",
    "import random"
   ]
  },
  {
   "cell_type": "code",
   "execution_count": 234,
   "metadata": {},
   "outputs": [],
   "source": [
    "class Encryption():\n",
    "    \n",
    "    def __init__(self,seed):\n",
    "        random.seed(seed)\n",
    "        self.seed = seed\n",
    " \n",
    "        self.encrypted_phrase = ''\n",
    "        self.true_alphabet = list(string.ascii_lowercase)\n",
    "        self.rand_alphabet = random.sample(self.true_alphabet,len(self.true_alphabet))\n",
    "\n",
    "    def encryption(self,message):\n",
    "        output = ''\n",
    "        \n",
    "        for i,letter in enumerate(message):\n",
    "            if i % 2 == 0:\n",
    "                \n",
    "               \n",
    "                \n",
    "                 # Concatentate a random letter to output\n",
    "                output = output + random.sample(self.true_alphabet,1)[0]\n",
    "                \n",
    "                # Concatenate real message letter\n",
    "                output = output + letter\n",
    "                \n",
    "                \n",
    "            else:\n",
    "                output = output + letter\n",
    "        \n",
    "        # Reverse the string for even more obfuscation\n",
    "        self.encrypted_phrase = output[::-1]\n",
    "         \n",
    "        \n",
    "        #######################################\n",
    "        ##### SECOND PHASE OF ENCRYPTION ######\n",
    "        #######################################\n",
    "        \n",
    "        \n",
    "        encrypted_phase_two = list(range(len(self.encrypted_phrase)))\n",
    "        \n",
    "        for i,letter in enumerate(self.encrypted_phrase.lower()):\n",
    "            \n",
    "            if letter in self.true_alphabet:\n",
    "                index = self.true_alphabet.index(letter)\n",
    "                encrypted_phase_two[i] = self.rand_alphabet[index]\n",
    "            \n",
    "            else:\n",
    "                encrypted_phase_two[i] = letter\n",
    "        \n",
    "        self.encrypted_phrase = ''.join(encrypted_phase_two)\n",
    "        \n",
    "        return self.encrypted_phrase\n",
    "     \n",
    "   \n",
    "    def decryption(self,message,seed,step):\n",
    "        \n",
    "        random.seed(seed)\n",
    "        session_rand_alphabet = random.sample(self.true_alphabet,len(self.true_alphabet))\n",
    "        \n",
    "        \n",
    "        \n",
    "        decrypted_message = list(range(len(message)))\n",
    "        \n",
    "        # First undo the randomized ceaser cipher\n",
    "        for i,letter in enumerate(message.lower()):\n",
    "            \n",
    "            if letter in self.true_alphabet:\n",
    "                index = session_rand_alphabet.index(letter)\n",
    "                decrypted_message[i] = self.true_alphabet[index]\n",
    "            \n",
    "            else:\n",
    "                decrypted_message[i] = letter\n",
    "        \n",
    "        decrypted_message = ''.join(decrypted_message)\n",
    "        \n",
    "        \n",
    "       \n",
    "      \n",
    "        \n",
    "        return decrypted_message"
   ]
  },
  {
   "cell_type": "code",
   "execution_count": null,
   "metadata": {},
   "outputs": [],
   "source": []
  },
  {
   "cell_type": "code",
   "execution_count": 235,
   "metadata": {},
   "outputs": [],
   "source": [
    "e = Encryption(2)"
   ]
  },
  {
   "cell_type": "code",
   "execution_count": 236,
   "metadata": {},
   "outputs": [
    {
     "data": {
      "text/plain": [
       "'ljkoowpj wqkkmfgs'"
      ]
     },
     "execution_count": 236,
     "metadata": {},
     "output_type": "execute_result"
    }
   ],
   "source": [
    "e.encryption('Hello World')"
   ]
  },
  {
   "cell_type": "code",
   "execution_count": 232,
   "metadata": {},
   "outputs": [
    {
     "data": {
      "text/plain": [
       "'heno frlf'"
      ]
     },
     "execution_count": 232,
     "metadata": {},
     "output_type": "execute_result"
    }
   ],
   "source": [
    "e.decryption('jlkoowjp qwkmkfsg',2)"
   ]
  },
  {
   "cell_type": "code",
   "execution_count": 89,
   "metadata": {},
   "outputs": [
    {
     "data": {
      "text/plain": [
       "['v', 'b', 'j', 'j', 'r', ' ', 'k', 'r', 'o', 'j', 'z']"
      ]
     },
     "execution_count": 89,
     "metadata": {},
     "output_type": "execute_result"
    }
   ],
   "source": [
    "encrypted_phase_one"
   ]
  },
  {
   "cell_type": "code",
   "execution_count": 69,
   "metadata": {},
   "outputs": [],
   "source": [
    "# Encryption Phase Two\n",
    "step = 2\n",
    "encrypted_phase_two = ''\n",
    "for i,letter in enumerate(encrypted_phase_one):\n",
    "    if i % step == 0:\n",
    "        encrypted_phase_two + random.sample(alpha,1)\n",
    "    else:\n",
    "        encrypted_phase_two + encrypted_phase_one[i]"
   ]
  },
  {
   "cell_type": "code",
   "execution_count": 72,
   "metadata": {},
   "outputs": [
    {
     "data": {
      "text/plain": [
       "[['h'], 'b', ['f'], 'j', ['g'], ' ', ['b'], 'r', ['k'], 'j', ['k']]"
      ]
     },
     "execution_count": 72,
     "metadata": {},
     "output_type": "execute_result"
    }
   ],
   "source": [
    "encrypted_phase_one"
   ]
  },
  {
   "cell_type": "code",
   "execution_count": 71,
   "metadata": {},
   "outputs": [
    {
     "data": {
      "text/plain": [
       "['v',\n",
       " 'l',\n",
       " 'z',\n",
       " 's',\n",
       " 'n',\n",
       " 'b',\n",
       " 'g',\n",
       " 'u',\n",
       " 'f',\n",
       " 'k',\n",
       " 'i',\n",
       " 'x',\n",
       " 'r',\n",
       " 'o',\n",
       " 'q',\n",
       " 'y',\n",
       " 'w',\n",
       " 'a',\n",
       " 't',\n",
       " 'c',\n",
       " 'e',\n",
       " 'p',\n",
       " 'm',\n",
       " 'd',\n",
       " 'j',\n",
       " 'h']"
      ]
     },
     "execution_count": 71,
     "metadata": {},
     "output_type": "execute_result"
    }
   ],
   "source": [
    "alpha"
   ]
  },
  {
   "cell_type": "code",
   "execution_count": null,
   "metadata": {
    "collapsed": true
   },
   "outputs": [],
   "source": []
  },
  {
   "cell_type": "code",
   "execution_count": null,
   "metadata": {
    "collapsed": true
   },
   "outputs": [],
   "source": []
  }
 ],
 "metadata": {
  "kernelspec": {
   "display_name": "Python 3",
   "language": "python",
   "name": "python3"
  },
  "language_info": {
   "codemirror_mode": {
    "name": "ipython",
    "version": 3
   },
   "file_extension": ".py",
   "mimetype": "text/x-python",
   "name": "python",
   "nbconvert_exporter": "python",
   "pygments_lexer": "ipython3",
   "version": "3.6.1"
  }
 },
 "nbformat": 4,
 "nbformat_minor": 2
}
