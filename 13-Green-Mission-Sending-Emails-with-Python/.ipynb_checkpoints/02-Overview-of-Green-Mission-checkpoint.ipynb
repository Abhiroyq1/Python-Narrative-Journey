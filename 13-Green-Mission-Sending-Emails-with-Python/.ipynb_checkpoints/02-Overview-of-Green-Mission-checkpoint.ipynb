{
 "cells": [
  {
   "cell_type": "markdown",
   "metadata": {
    "collapsed": true
   },
   "source": [
    "# Overview of Green Mission\n",
    "\n",
    "It seems like the email we obtained from the previous mission:\n",
    "\n",
    "    info@thegoldbugs.com\n",
    "    \n",
    "has been set to an auto-reply function that will reveal more information.\n",
    "\n",
    "Send an email to the address and use Python to see what the reply is.\n",
    "\n",
    "Best of luck agent!"
   ]
  }
 ],
 "metadata": {
  "kernelspec": {
   "display_name": "Python 3",
   "language": "python",
   "name": "python3"
  },
  "language_info": {
   "codemirror_mode": {
    "name": "ipython",
    "version": 3
   },
   "file_extension": ".py",
   "mimetype": "text/x-python",
   "name": "python",
   "nbconvert_exporter": "python",
   "pygments_lexer": "ipython3",
   "version": "3.6.1"
  }
 },
 "nbformat": 4,
 "nbformat_minor": 1
}
